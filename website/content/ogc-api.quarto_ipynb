{
  "cells": [
    {
      "cell_type": "markdown",
      "metadata": {},
      "source": [
        "---\n",
        "title: \"OGC API\"\n",
        "format: gfm\n",
        "engine: jupyter\n",
        "---\n",
        "\n",
        "\n",
        "This page shows how to use the workflow using web APIs.\n",
        "\n",
        "::: {.callout-note}\n",
        "This part is still in development\n",
        ":::\n",
        "\n",
        "## Start the workflow\n",
        "\n",
        "Access the [OGC API - Processes](https://ogcapi.ogc.org/processes) at the entry point http://ogc.api.fairsendd.eodchosting.eu.\n",
        "Further documentation is provided at the [Swagger OpenAPI page](http://ogc.api.fairsendd.eodchosting.eu/openapi).\n",
        "\n",
        "Get information about the process:\n",
        "\n",
        "\n",
        "```{bash}\n",
        "curl -X 'GET' \\\n",
        "  'http://ogc.api.fairsendd.eodchosting.eu/processes/squared?f=json' \\\n",
        "  -H 'accept: application/json'\n",
        "```\n",
        "\n",
        "\n",
        "Execute the workflow and start the job:\n",
        "\n",
        "\n",
        "```{bash}\n",
        "curl -X 'POST' \\\n",
        "  'http://ogc.api.fairsendd.eodchosting.eu/processes/squared/execution' \\\n",
        "  -H 'accept: application/json' \\\n",
        "  -H 'Content-Type: application/json' \\\n",
        "  -d '{\n",
        "  \"inputs\": {\n",
        "    \"value\": 3\n",
        "  }\n",
        "}'\n",
        "```\n",
        "\n",
        "\n",
        "## Get results\n",
        "\n",
        "Access job results using its id:\n"
      ],
      "id": "9c258e47"
    },
    {
      "cell_type": "code",
      "metadata": {},
      "source": [
        "import xarray as xr\n",
        "import matplotlib.pyplot as plt\n",
        "\n",
        "\n",
        "job_id = \"test1\"\n",
        "ds_path = \"E051N018T3_rqatrend_VH_D022_thresh_3.0.zarr\"\n",
        "ds = xr.open_zarr(f\"http://s3.fairsendd.eodchosting.eu/userdata/{job_id}/{ds_path}\")\n",
        "ds.layer.plot()\n",
        "plt.show()"
      ],
      "id": "a11da7dc",
      "execution_count": null,
      "outputs": []
    }
  ],
  "metadata": {
    "kernelspec": {
      "display_name": "Python 3",
      "language": "python",
      "name": "python3"
    }
  },
  "nbformat": 4,
  "nbformat_minor": 5
}